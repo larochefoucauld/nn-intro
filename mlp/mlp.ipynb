{
 "cells": [
  {
   "cell_type": "code",
   "execution_count": 1,
   "id": "84a21c18",
   "metadata": {},
   "outputs": [],
   "source": [
    "import torch\n",
    "import torch.nn.functional as F\n",
    "import matplotlib.pyplot as plt\n",
    "import numpy as np"
   ]
  },
  {
   "cell_type": "code",
   "execution_count": 4,
   "id": "4ccc4172-3fb6-4b62-b47e-1fd2eea5241e",
   "metadata": {},
   "outputs": [
    {
     "data": {
      "text/plain": [
       "['emma', 'olivia', 'ava', 'isabella', 'sophia', 'charlotte', 'mia', 'amelia']"
      ]
     },
     "execution_count": 4,
     "metadata": {},
     "output_type": "execute_result"
    }
   ],
   "source": [
    "names = open(\"../names.txt\", \"r\").read().splitlines()\n",
    "names[:8]"
   ]
  },
  {
   "cell_type": "markdown",
   "id": "a65fb7a4-3e1d-417e-a3e4-8e7234821130",
   "metadata": {},
   "source": [
    "## Problem \n",
    "Learn to generate name-like words.\n",
    "## Model \n",
    "Character-based language model which predicts the next character in a fixed-size sequence (context). To generate words, we give the model previously generated characters as a context (initially special zero-symbols) and generate the next, until it is a special symbol indicating the end of the word.\n",
    "## Implementation\n",
    "A model is an MLP learning on the name dataset. Each character is represented by its' feature vector (embedding).\n",
    "### Input\n",
    "**h_context_size** embedding vectors corresponding to given context, merged into one **h_context_size** * **h_emb_dim** -dimensional vector\n",
    "### Output\n",
    "Discrete probability distribution over **alph_size** items (corresponding to characters in the alphabet). The distribution is obtained by applying *softmax* to the last hidden layer\n",
    "### Hidden layers\n",
    "The number of hidden layers and their sizes are the hyperparameters. Each hidden layer uses *tanh* as its' non-linearity\n",
    "### Metrics\n",
    "Cross-entropy loss (negative log likelihood of the training set)"
   ]
  },
  {
   "cell_type": "code",
   "execution_count": 3,
   "id": "b9e14798-d0d1-4bfd-abe5-7d68b2c5a050",
   "metadata": {},
   "outputs": [],
   "source": [
    "# convert index to character\n",
    "itoc = list(set(list(''.join(names))))\n",
    "itoc.sort()\n",
    "itoc = ['.'] + itoc\n",
    "\n",
    "# convert character to index\n",
    "ctoi = {itoc[i] : i for i in range(len(itoc))}\n",
    "\n",
    "# Data consts\n",
    "alph_size = len(itoc)"
   ]
  },
  {
   "cell_type": "code",
   "execution_count": 4,
   "id": "53d46c22-1628-41a9-9fcd-a38a294ec9f7",
   "metadata": {},
   "outputs": [
    {
     "name": "stdout",
     "output_type": "stream",
     "text": [
      "25626 3203 3204\n"
     ]
    }
   ],
   "source": [
    "# Because the format of processed data (and the number of training samples) depends on hyperparameters (h_context_size), \n",
    "# we split the raw data into train, dev and test sets and then re-process them (but do not change the initial data) when we change hyperparameters\n",
    "import random\n",
    "random.seed(27) # for reproducibility\n",
    "\n",
    "random.shuffle(names)\n",
    "train_size = int(0.8 * len(names))\n",
    "dev_size = int(0.1 * len(names))\n",
    "\n",
    "train_set = names[:train_size]\n",
    "dev_set = names[train_size:train_size + dev_size]\n",
    "test_set = names[train_size + dev_size:]\n",
    "print(len(train_set), len(dev_set), len(test_set))"
   ]
  },
  {
   "cell_type": "code",
   "execution_count": 5,
   "id": "3f2a77fe-76e2-494b-add8-7378723b4c26",
   "metadata": {},
   "outputs": [],
   "source": [
    "# Hyperparams\n",
    "\n",
    "h_context_size = 4 # number of characters to predict the next\n",
    "h_emb_dim = 8 # embedding space dimension\n",
    "h_hidden_sizes = [250] # sizes of hidden layers\n",
    "h_lr = 1 # learning rate (modifiable during the training)\n",
    "h_mb_size = 80 # minibatch size"
   ]
  },
  {
   "cell_type": "code",
   "execution_count": 6,
   "id": "9d192768-a9ba-4b77-bc76-12144c662e6d",
   "metadata": {},
   "outputs": [
    {
     "data": {
      "text/plain": [
       "(torch.Size([182351, 4]), torch.Size([182351]))"
      ]
     },
     "execution_count": 6,
     "metadata": {},
     "output_type": "execute_result"
    }
   ],
   "source": [
    "# Build dataset\n",
    "\n",
    "def build_dataset(raw):\n",
    "    X = []\n",
    "    Y = []\n",
    "    for word in raw: # for demonstration\n",
    "        # print(word)\n",
    "        context = [0] * h_context_size\n",
    "        for ch in word + '.':\n",
    "            X.append(context)\n",
    "            Y.append(ctoi[ch])\n",
    "            # print(''.join([itoc[i] for i in context]), '-->', ch)\n",
    "            context = context[1:] + [ctoi[ch]]\n",
    "    return torch.tensor(X), torch.tensor(Y)\n",
    "\n",
    "X_tr, Y_tr = build_dataset(train_set)\n",
    "X_dev, Y_dev = build_dataset(dev_set)\n",
    "X_test, Y_test = build_dataset(test_set)\n",
    "X_tr.shape, Y_tr.shape"
   ]
  },
  {
   "cell_type": "code",
   "execution_count": 7,
   "id": "b173525c-05ff-4399-a19f-7ec48717d2b7",
   "metadata": {},
   "outputs": [
    {
     "name": "stdout",
     "output_type": "stream",
     "text": [
      "[(torch.Size([32, 250]), torch.Size([250])), (torch.Size([250, 27]), torch.Size([27]))]\n",
      "torch.Size([27, 8])\n",
      "15243\n"
     ]
    }
   ],
   "source": [
    "# Initialize params\n",
    "\n",
    "gen = torch.Generator().manual_seed(3806539) # for reproducibility\n",
    "\n",
    "p_hidden = [] # hidden layers' weights and biases\n",
    "for size1, size2 in zip([h_emb_dim * h_context_size] + h_hidden_sizes, h_hidden_sizes + [alph_size]): # \n",
    "    p_hidden.append(\n",
    "        (torch.randn((size1, size2), generator=gen), # layer weights (size1 inputs, size2 neurons)\n",
    "         torch.randn((size2,), generator=gen))       # neurons' biases (size2 in total)\n",
    "    )\n",
    "\n",
    "C = torch.randn((alph_size, h_emb_dim), generator=gen) # embedding matrix\n",
    "params = [C] + [W for (W, _) in p_hidden] + [b for (_, b) in p_hidden]\n",
    "print([(W.shape, b.shape) for (W, b) in p_hidden])\n",
    "print(C.shape)\n",
    "print(sum([p.nelement() for p in params])) # model size"
   ]
  },
  {
   "cell_type": "code",
   "execution_count": 8,
   "id": "d3bf4990-24b4-4e86-8482-0b5a2ae1e6a0",
   "metadata": {},
   "outputs": [],
   "source": [
    "# Training utilities\n",
    "\n",
    "def sample_minibatch(X_all, Y_all):\n",
    "    ind = torch.randint(0, X_all.shape[0], (h_mb_size,), generator=gen)\n",
    "    return X_all[ind], Y_all[ind]\n",
    "\n",
    "def embed(X):\n",
    "    return C[X].view(-1, h_emb_dim * h_context_size) # preserves gradient propagation\n",
    "\n",
    "def forward(X):\n",
    "    current = embed(X)\n",
    "    for (W, b) in p_hidden[:-1]:\n",
    "        current = torch.tanh(current @ W + b) # pass the data through the layer and add non-linearity (notice tensor broadcast)\n",
    "    W_out, b_out = p_hidden[-1]\n",
    "    return current @ W_out + b_out # create logits (no non-linearity) on the output layer\n",
    "\n",
    "def reset_grad():\n",
    "    for p in params:\n",
    "        p.grad = None\n",
    "\n",
    "def update(lr):\n",
    "    for p in params:\n",
    "        p.data -= lr * p.grad\n",
    "\n",
    "def train(iter):\n",
    "    for i in range(iter):\n",
    "        X_mb, Y_mb = sample_minibatch(X_tr, Y_tr)\n",
    "        loss = F.cross_entropy(forward(X_mb), Y_mb)\n",
    "        reset_grad()\n",
    "        loss.backward()\n",
    "        update(h_lr)\n",
    "\n",
    "# To set custom learning rates and keep track of loss\n",
    "def train_inspect(iter, lri, inspect_steps):\n",
    "    stepi, lossi = [], []\n",
    "    for i, lr in zip(range(iter), lri):\n",
    "        X_mb, Y_mb = sample_minibatch(X_tr, Y_tr)\n",
    "        loss = F.cross_entropy(forward(X_mb), Y_mb)\n",
    "        reset_grad()\n",
    "        loss.backward()\n",
    "        update(lr)\n",
    "        if i % int(iter / inspect_steps) == 0:\n",
    "            lossi.append(loss.item())\n",
    "            stepi.append(i)\n",
    "    return stepi, lossi"
   ]
  },
  {
   "cell_type": "code",
   "execution_count": 9,
   "id": "10d1c8e0-2d1d-46ce-99fc-5440b00ed216",
   "metadata": {},
   "outputs": [],
   "source": [
    "# Validation and testing utilities\n",
    "\n",
    "def eval(X, Y):\n",
    "    return F.cross_entropy(forward(X), Y).item()"
   ]
  },
  {
   "cell_type": "code",
   "execution_count": 10,
   "id": "6b32ae6a-2009-4883-b844-0c8da351fc90",
   "metadata": {},
   "outputs": [],
   "source": [
    "# Prepare for training\n",
    "\n",
    "for p in params:\n",
    "    p.requires_grad = True"
   ]
  },
  {
   "cell_type": "code",
   "execution_count": 11,
   "id": "7d057cfd-6ec4-4e47-b0f5-a8e58f33b58f",
   "metadata": {},
   "outputs": [],
   "source": [
    "# Utilities to analyze and select hparams\n",
    "\n",
    "def moving_average(data, window_size):\n",
    "    window = torch.ones((window_size,)) / window_size;\n",
    "    return np.convolve(data, window, 'same')\n",
    "\n",
    "def trim(list, offset):\n",
    "    return list[offset:-offset]\n",
    "\n",
    "def plot_smooth(X, Y, smoothing_factor):\n",
    "    avg_window_size = int(smoothing_factor * len(X))\n",
    "    plt.plot(trim(X, avg_window_size), trim(Y, avg_window_size))\n",
    "    plt.plot(trim(X, avg_window_size), trim(moving_average(Y, avg_window_size), avg_window_size))"
   ]
  },
  {
   "cell_type": "code",
   "execution_count": 12,
   "id": "f61bb13b-91e2-4319-9add-47f96918011c",
   "metadata": {},
   "outputs": [
    {
     "data": {
      "text/plain": [
       "[<matplotlib.lines.Line2D at 0x209c580a410>]"
      ]
     },
     "execution_count": 12,
     "metadata": {},
     "output_type": "execute_result"
    },
    {
     "data": {
      "image/png": "[encoded data removed]",
      "text/plain": [
       "<Figure size 640x480 with 1 Axes>"
      ]
     },
     "metadata": {},
     "output_type": "display_data"
    }
   ],
   "source": [
    "# Generate exponentially increasing (to provide ordinal uniformity) learning rates between current and <very small> value\n",
    "\n",
    "cur_lr_exp = torch.log10(torch.tensor(h_lr)).item()\n",
    "lri = 10 ** torch.linspace(cur_lr_exp - 8, cur_lr_exp, 1000)\n",
    "plt.plot(torch.arange(lri.shape[0]), lri)"
   ]
  },
  {
   "cell_type": "code",
   "execution_count": 13,
   "id": "3b173608-b2f4-4652-9161-03e21164c554",
   "metadata": {},
   "outputs": [],
   "source": [
    "# Find optimal learning rate\n",
    "\n",
    "stepi, tr_lossi = train_inspect(lri.shape[0], lri, lri.shape[0])"
   ]
  },
  {
   "cell_type": "code",
   "execution_count": 14,
   "id": "7291cd96-e301-4980-9e21-581873849c59",
   "metadata": {},
   "outputs": [
    {
     "data": {
      "image/png": "[encoded data removed]",
      "text/plain": [
       "<Figure size 640x480 with 1 Axes>"
      ]
     },
     "metadata": {},
     "output_type": "display_data"
    }
   ],
   "source": [
    "plot_smooth(stepi, tr_lossi, 0.01)\n",
    "# plot_smooth(stepi[800:1000], tr_lossi[800:1000], 0.1)"
   ]
  },
  {
   "cell_type": "code",
   "execution_count": 15,
   "id": "e7973d5b-45be-47b2-8905-ac7cd236704e",
   "metadata": {},
   "outputs": [
    {
     "data": {
      "text/plain": [
       "0.3369205892086029"
      ]
     },
     "execution_count": 15,
     "metadata": {},
     "output_type": "execute_result"
    }
   ],
   "source": [
    "h_lr = lri[940].item()\n",
    "h_lr"
   ]
  },
  {
   "cell_type": "code",
   "execution_count": 16,
   "id": "e26c0247-afd0-42cd-b146-e690b0ad3d39",
   "metadata": {},
   "outputs": [],
   "source": [
    "# Train model keeping track of the loss\n",
    "iter = 50000\n",
    "lri = torch.ones((iter,)) * h_lr\n",
    "\n",
    "stepi, tr_lossi = train_inspect(iter, lri, iter)"
   ]
  },
  {
   "cell_type": "code",
   "execution_count": 17,
   "id": "39d99603-c991-4695-be41-d6d9ff3819f2",
   "metadata": {},
   "outputs": [
    {
     "name": "stdout",
     "output_type": "stream",
     "text": [
      "2.86299204826355 2.9438254833221436\n"
     ]
    }
   ],
   "source": [
    "print(eval(X_tr, Y_tr), eval(X_dev, Y_dev))"
   ]
  },
  {
   "cell_type": "code",
   "execution_count": 18,
   "id": "c7bfe656-eff0-4208-8b8c-1151d1558e30",
   "metadata": {},
   "outputs": [
    {
     "data": {
      "image/png": "[encoded data removed]",
      "text/plain": [
       "<Figure size 640x480 with 1 Axes>"
      ]
     },
     "metadata": {},
     "output_type": "display_data"
    }
   ],
   "source": [
    "plot_smooth(stepi, tr_lossi, 0.04)"
   ]
  },
  {
   "cell_type": "code",
   "execution_count": 19,
   "id": "383e5326-ff74-4b7f-b50f-53802111e257",
   "metadata": {},
   "outputs": [
    {
     "data": {
      "text/plain": [
       "[1.320462703704834,\n",
       " 1.0541609525680542,\n",
       " 0.40424203872680664,\n",
       " 1.3621045351028442,\n",
       " 1.0628046989440918]"
      ]
     },
     "execution_count": 19,
     "metadata": {},
     "output_type": "execute_result"
    }
   ],
   "source": [
    "[((p ** 2).sum() / p.nelement()).item() for p in params] # regularization not needed"
   ]
  },
  {
   "cell_type": "code",
   "execution_count": 20,
   "id": "04b654a8-eb17-43ac-8268-9cbd4fc23045",
   "metadata": {},
   "outputs": [
    {
     "name": "stdout",
     "output_type": "stream",
     "text": [
      "['zemora', 'saliou', 'zhaniyah', 'amire', 'alinea', 'damian', 'vianka', 'maha', 'ameira', 'jahon', 'romulus', 'gurveer', 'avea', 'laylonnie', 'maja', 'shane', 'aasim', 'javier', 'alaiza', 'efraim']\n"
     ]
    },
    {
     "data": {
      "text/plain": [
       "['honsynn',\n",
       " 'yosefina',\n",
       " 'suge',\n",
       " 'tonora',\n",
       " 'psylii',\n",
       " 'leez',\n",
       " 'koonsha',\n",
       " 'rosson',\n",
       " 'thoinn',\n",
       " 'sonilynn',\n",
       " 'lylyn',\n",
       " 'tolynn',\n",
       " 'lole',\n",
       " 'lophyffy',\n",
       " 'yossyanna',\n",
       " 'someryna',\n",
       " 'copontriyah',\n",
       " 'laeejnadyn',\n",
       " 'lopen',\n",
       " 'corestynnlonn']"
      ]
     },
     "execution_count": 20,
     "metadata": {},
     "output_type": "execute_result"
    }
   ],
   "source": [
    "# Sampling from the model\n",
    "\n",
    "sampler = torch.Generator().manual_seed(3806539) # for reproducibility\n",
    "\n",
    "def gen_next_char(context):\n",
    "    distribution = F.softmax(forward(context), dim=1)\n",
    "    sample = torch.multinomial(distribution, num_samples=1, generator=sampler).item()\n",
    "    return itoc[sample]\n",
    "\n",
    "def gen_word():\n",
    "    word = ''\n",
    "    context = [0] * h_context_size\n",
    "    while True:\n",
    "        next = gen_next_char(context)\n",
    "        if (next == '.'):\n",
    "            break\n",
    "        context = context[1:] + [ctoi[next]]\n",
    "        word += next\n",
    "    return word\n",
    "\n",
    "def generate(num_samples):\n",
    "    res = []\n",
    "    for _ in range(num_samples):\n",
    "        res.append(gen_word())\n",
    "    return res\n",
    "\n",
    "print(names[:20]) # real names\n",
    "generate(20) # model's predictions"
   ]
  },
  {
   "cell_type": "code",
   "execution_count": 21,
   "id": "eee62eee-a9eb-4f97-a756-321b6788af95",
   "metadata": {},
   "outputs": [
    {
     "data": {
      "text/plain": [
       "2.944058418273926"
      ]
     },
     "execution_count": 21,
     "metadata": {},
     "output_type": "execute_result"
    }
   ],
   "source": [
    "eval(X_test, Y_test)"
   ]
  },
  {
   "cell_type": "code",
   "execution_count": 22,
   "id": "8adc81f6-3708-4059-911f-200d427f6afb",
   "metadata": {},
   "outputs": [],
   "source": [
    "# Results\n",
    "\n",
    "# Hparams:\n",
    "# (1): context_size = 5, emb_dim = 10, hidden_sizes = [150], mb_size = 40\n",
    "# (2): context_size = 4, emb_dim = 8, hidden_sizes = [250], mb_size = 80\n",
    "\n",
    "# Minimal loss obtained\n",
    "# (1) train_loss = 2.14, val_loss = 2.17\n",
    "# (2) train_loss = 2.04, val_loss = 2.13\n",
    "\n",
    "# (2) test_loss = 2.14\n",
    "# Examples of samples from (2):\n",
    "\n",
    "#  'hila',\n",
    "#  'prand',\n",
    "#  'adarimsuon',\n",
    "#  'shealanishia',\n",
    "#  'caleza',\n",
    "#  'rohab',\n",
    "#  'emida',\n",
    "#  'nylee',\n",
    "#  'mitarnik',\n",
    "#  'grael',\n",
    "#  'khayalyra',\n",
    "#  'joleth',\n",
    "#  'quyos',\n",
    "#  'caylay',\n",
    "#  'press',\n",
    "#  'marquavin',\n",
    "#  'borah',\n",
    "#  'tane',\n",
    "#  'emra',\n",
    "#  'cytle'\n",
    "\n",
    "#  'charlingston',\n",
    "#  'warlon',\n",
    "#  'lyric',\n",
    "#  'slamarie',\n",
    "#  'alire',\n",
    "#  'aly',\n",
    "#  'mamuela',\n",
    "#  'maisenceran',\n",
    "#  'kharchon',\n",
    "#  'zaman',\n",
    "#  'maziah',\n",
    "#  'rain',\n",
    "#  'trysce',\n",
    "#  'sayon',\n",
    "#  'rakeseah',\n",
    "#  'alivsarion',\n",
    "#  'kalavis',\n",
    "#  'kakquila',\n",
    "#  'khaya',\n",
    "#  'sallen'"
   ]
  }
 ],
 "metadata": {
  "kernelspec": {
   "display_name": "Python 3 (ipykernel)",
   "language": "python",
   "name": "python3"
  },
  "language_info": {
   "codemirror_mode": {
    "name": "ipython",
    "version": 3
   },
   "file_extension": ".py",
   "mimetype": "text/x-python",
   "name": "python",
   "nbconvert_exporter": "python",
   "pygments_lexer": "ipython3",
   "version": "3.11.7"
  }
 },
 "nbformat": 4,
 "nbformat_minor": 5
}
